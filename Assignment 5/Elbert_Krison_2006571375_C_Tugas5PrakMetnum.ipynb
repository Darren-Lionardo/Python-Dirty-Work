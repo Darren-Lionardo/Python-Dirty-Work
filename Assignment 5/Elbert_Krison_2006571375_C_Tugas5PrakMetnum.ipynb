{
  "nbformat": 4,
  "nbformat_minor": 0,
  "metadata": {
    "colab": {
      "name": "Elbert Krison_2006571375_C_Tugas5PrakMetnum.ipynb",
      "provenance": []
    },
    "kernelspec": {
      "name": "python3",
      "display_name": "Python 3"
    },
    "language_info": {
      "name": "python"
    }
  },
  "cells": [
    {
      "cell_type": "code",
      "metadata": {
        "id": "KuyzPIkMmYyp"
      },
      "source": [
        "import numpy as np\n",
        "import math\n",
        "#NPM 2006571375 input baris 4 71375\n",
        "length = (0, 0)\n",
        "while length[0] != 4 or length[1] != 5:\n",
        "  print(\"Matrix 4x5:\")\n",
        "  matrix = np.array(eval(input()), dtype = 'f')\n",
        "  np.set_printoptions(formatter={'float': lambda x: \"{0:0.8f}\".format(x)}) #Mendisplay matriks 4x5 dengan masing-masing elemen ditulis dalam 8 digit dibelakang koma\n",
        "  length = np.shape(matrix)\n",
        "  if length[0] != 4 or length[1] != 5:\n",
        "    print()\n",
        "    print(\"Ukuran matrix salah, ulangi lagi...\") #error bila tidak diberikan 4 baris array dengan 5 elemen masing-masing\n",
        "print(matrix)\n",
        "\n",
        "for j in range(0, length[1]-2): #rumus untuk mengenerate kolom matriks\n",
        "  max = 0\n",
        "  if j < length[0]-1:\n",
        "    for i in range(j, length[0]): #rumus untuk mengenerate baris matriks\n",
        "      if abs(matrix[i, j]) > max: #Mengecek untuk kolom 1, 4 baris nilai mutlak elemen terbesar akan diletakkan di posisi kolom 1 baris 1\n",
        "        max = abs(matrix[i, j]) #Operasi penukaran baris matriksnya, (untuk kolom 2, 3 baris terakhir & elemen mutlak terbesar di posisi kolom 2 baris 2)\n",
        "        maxRow = i\n",
        "    temp = np.array(matrix, dtype='f') #Terakhir mengecek kolom 3, 2 baris terakhir & elemen mutlak terbesar di posisi kolom 3 baris 3\n",
        "    matrix[j] = matrix[maxRow]\n",
        "    matrix[maxRow] = temp[j]\n",
        "    for i in range(j+1, length[0]):\n",
        "      if matrix[i, j] != 0:\n",
        "        matrix[i] = abs(matrix[i]) - ((abs(matrix[i, j])/abs(matrix[j, j])) * abs(matrix[j])) #Membuat elemen baris sisa di bawah elemen mutlak terbesar 0\n",
        "\n",
        "  print()\n",
        "  print(matrix)\n",
        "\n",
        "for i in range(0, length[1]-1):\n",
        "  if matrix[3][i] == 0: #Kalau baris 4 nilai 4 elemen pertamanya 0, berarti matriks hanya terdiri dari <4 persamaan sehingga solusi unik tidak ada\n",
        "    error = 1\n",
        "  else:\n",
        "    error = 0 #Kalau pada posisi kolom 4 baris 4 elemennya tidak 0, berarti langkah subtitusi dapat dilakukan untuk mendapatkan solusi unik\n",
        "    break\n",
        "\n",
        "if error == 0:\n",
        "  a = b = c = d = 0\n",
        "  error = 1\n",
        "  if(matrix[3, 3] != 0):\n",
        "    d = matrix[3, 4] / matrix[3, 3] #Rumus untuk mendapatkan solusi x1\n",
        "    error = 0\n",
        "  if(matrix[2, 2] != 0):\n",
        "    c = (matrix[2, 4] - matrix[2, 3]*d) / matrix[2, 2] #Rumus untuk mendapatkan solusi x2\n",
        "    error = 0\n",
        "  if(matrix[1, 1] != 0):\n",
        "    b = (matrix[1, 4] - matrix[1, 2]*c - matrix[1, 3]*d) / matrix[1, 1] #Rumus untuk mendapatkan solusi x3\n",
        "    error = 0\n",
        "  if(matrix[0, 0] != 0):\n",
        "    a = (matrix[0, 4] - matrix[0, 1]*b - matrix[0, 2]*c - matrix[0, 3]*d) / matrix[0,0] #Rumus untuk mendapatkan solusi x4\n",
        "    error = 0\n",
        "\n",
        "  result = np.array([a,b,c,d], dtype = 'f')\n",
        "  print()\n",
        "  print(\"Solusi: \", result) #Mendisplay solusi x1,x2,x3,x4 dalam bentuk array desimal\n",
        "else:\n",
        "  print()\n",
        "  print(\"ERROR: Tidak ada solusi unik\") #Terjadi bila di baris terakhir, 4 elemen pertamanya bernilai 0 (alias tidak ada solusi unik karena kurang persamaan)"
      ],
      "execution_count": null,
      "outputs": []
    }
  ]
}